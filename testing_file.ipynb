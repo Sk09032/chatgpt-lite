{
 "cells": [
  {
   "cell_type": "code",
   "execution_count": 1,
   "metadata": {},
   "outputs": [],
   "source": [
    "import os \n",
    "from dotenv import load_dotenv\n",
    "from langchain_chroma import Chroma\n",
    "from langchain_huggingface import ChatHuggingFace,HuggingFaceEndpoint\n",
    "from langchain_community.document_loaders import PyPDFLoader\n",
    "from langchain_huggingface import HuggingFaceEndpointEmbeddings\n",
    "from langchain_text_splitters import RecursiveCharacterTextSplitter\n",
    "from pathlib import Path\n",
    "from langchain_groq import ChatGroq\n",
    "from langchain_core.prompts import ChatPromptTemplate\n",
    "from langchain.chains import RetrievalQA\n",
    "from warnings import filterwarnings\n",
    "filterwarnings(\"ignore\")"
   ]
  },
  {
   "cell_type": "code",
   "execution_count": 2,
   "metadata": {},
   "outputs": [],
   "source": [
    "load_dotenv()\n",
    "GROQ_API_KEY=os.getenv(\"GROQ_API_KEY\")\n",
    "HUGGINGFACEHUB_API_TOKEN=os.getenv('HUGGINGFACEHUB_API_TOKEN')"
   ]
  },
  {
   "cell_type": "code",
   "execution_count": 3,
   "metadata": {},
   "outputs": [],
   "source": [
    "Groq_llm= ChatGroq(\n",
    "    model=\"deepseek-r1-distill-llama-70b\",\n",
    "    temperature=0,\n",
    "    max_tokens=None,\n",
    "    reasoning_format=\"parsed\",\n",
    "    timeout=None,\n",
    "    max_retries=2,\n",
    ")"
   ]
  },
  {
   "cell_type": "code",
   "execution_count": 4,
   "metadata": {},
   "outputs": [],
   "source": [
    "repo_id=\"Qwen/Qwen3-235B-A22B\"\n",
    "llm=HuggingFaceEndpoint(\n",
    "    repo_id=repo_id,\n",
    "    huggingfacehub_api_token=HUGGINGFACEHUB_API_TOKEN,\n",
    "    task=\"text-generation\",\n",
    "    provider=\"auto\",\n",
    "    temperature=0.5\n",
    "    )\n",
    "chatmodel=ChatHuggingFace(llm=llm)"
   ]
  },
  {
   "cell_type": "code",
   "execution_count": 5,
   "metadata": {},
   "outputs": [],
   "source": [
    "hf_embeddings = HuggingFaceEndpointEmbeddings(\n",
    "    model=\"sentence-transformers/all-mpnet-base-v2\",\n",
    "    huggingfacehub_api_token=HUGGINGFACEHUB_API_TOKEN\n",
    ")"
   ]
  },
  {
   "cell_type": "code",
   "execution_count": 6,
   "metadata": {},
   "outputs": [],
   "source": [
    "Vector_store=Chroma(\n",
    "    collection_name=\"chatbot\",\n",
    "    embedding_function=hf_embeddings\n",
    "    )"
   ]
  },
  {
   "cell_type": "code",
   "execution_count": 7,
   "metadata": {},
   "outputs": [],
   "source": [
    "pdf_folder = Path(\"/Users/sunnykumar/Downloads/AI DEVELOPER – LLM SPECIALIST ASSIGNMENT/pdf\")"
   ]
  },
  {
   "cell_type": "code",
   "execution_count": 8,
   "metadata": {},
   "outputs": [],
   "source": [
    "all_docs = []\n",
    "for pdf_file in pdf_folder.glob(\"*.pdf\"):\n",
    "    loader=PyPDFLoader(str(pdf_file))\n",
    "    docs=loader.load()\n",
    "    for doc in docs:\n",
    "        doc.metadata[\"source\"] = pdf_file.name\n",
    "    all_docs.extend(docs)"
   ]
  },
  {
   "cell_type": "code",
   "execution_count": 9,
   "metadata": {},
   "outputs": [
    {
     "data": {
      "text/plain": [
       "{'producer': 'Microsoft® Word 2021',\n",
       " 'creator': 'Microsoft® Word 2021',\n",
       " 'creationdate': '2025-02-01T03:54:26+05:30',\n",
       " 'author': 'hss',\n",
       " 'moddate': '2025-02-01T03:56:01+05:30',\n",
       " 'title': '',\n",
       " 'source': 'budget_speech.pdf',\n",
       " 'total_pages': 60,\n",
       " 'page': 9,\n",
       " 'page_label': '10'}"
      ]
     },
     "execution_count": 9,
     "metadata": {},
     "output_type": "execute_result"
    }
   ],
   "source": [
    "all_docs[21].metadata"
   ]
  },
  {
   "cell_type": "code",
   "execution_count": 10,
   "metadata": {},
   "outputs": [],
   "source": [
    "text_splitter=RecursiveCharacterTextSplitter(chunk_size=750, chunk_overlap=100)\n",
    "all_splits = text_splitter.split_documents(all_docs)"
   ]
  },
  {
   "cell_type": "code",
   "execution_count": 11,
   "metadata": {},
   "outputs": [
    {
     "data": {
      "text/plain": [
       "['827bfe26-3bde-4fcf-9cad-f9fef2ec7f13',\n",
       " '95604177-014e-413b-8c49-a85daf61fd67',\n",
       " '9490b330-85c9-4fec-abd0-d178740f058a',\n",
       " '3d021405-1576-4ac3-baad-bf5cbdde2cd2',\n",
       " '85b198ba-334b-412c-a5a8-3af2b4ec010d',\n",
       " 'e3ca02ce-6dd0-400b-ad40-9875cd3d89bb',\n",
       " '34195093-a45c-4659-9318-ec145c6a1dca',\n",
       " 'b0cf087b-7ad5-4a22-a972-7a2440503f81',\n",
       " 'dceb131b-0709-4ad7-80b0-a6a2c24bd035',\n",
       " '1a2a1d98-fb36-4e78-bc9d-516f8e2e8b84',\n",
       " 'cafca820-6d68-477d-8471-8c887071f05b',\n",
       " 'bce0de66-f595-4d81-944c-892759f33d11',\n",
       " '1d1f715e-2f1d-4979-ac6f-314eb671db82',\n",
       " 'b063fdb7-6a81-4dee-b4d1-8ce47aea7936',\n",
       " '7c5ae48b-9d03-497c-9c25-00d4aaa96d0e',\n",
       " 'ce66d026-a7b9-45d0-9c68-0f58c8f12b78',\n",
       " '6080297d-2bfb-4b0e-8de3-63b24aad2ba4',\n",
       " 'f4eee255-c606-4019-969b-2daf7cff2628',\n",
       " 'd36cd1a5-0d7b-4028-a1b6-b934713d7ec2',\n",
       " '063a2468-0ffc-445f-85d8-9a1025e11cd8',\n",
       " '2a1285d0-c095-4b28-aad5-fef49cf78fcd',\n",
       " '0cc3fc97-c113-485b-83d2-3a5ca2ac3703',\n",
       " '8fe0fc23-e555-4916-b4d2-e405761dd42b',\n",
       " '760b22b2-c5e3-46ad-96ea-db5969d0c776',\n",
       " '89aad46e-80fb-4d0b-b8b7-fc88eceaf06a',\n",
       " '87864db1-b45a-4627-85fb-9a19118f432c',\n",
       " 'ccdfe5de-7b03-4f38-aa27-1977c68a40e5',\n",
       " '6d329338-1394-4cfa-8bbe-972b6fa95588',\n",
       " 'cd51a479-b18b-4da4-8cdf-3c6ff762cd5b',\n",
       " '4d411abc-4d50-42c9-b376-71abb646187e',\n",
       " '0e4d0b14-87ce-4fe1-8143-3e0c7c0bb38b',\n",
       " 'de960d65-df94-4e53-8060-2c04a655ca34',\n",
       " 'c1c01239-a92d-42b9-9647-a653fa4a0b59',\n",
       " 'ee6a4bc4-f963-49ac-b259-66deee1740b3',\n",
       " 'f012ce9a-e398-4a55-807d-28cb6f09e036',\n",
       " 'f544e450-9e3d-4e36-99d8-d73c2c9f66fe',\n",
       " 'af6c3b5f-000b-45fe-9681-249de8522a90',\n",
       " 'a099f618-ddc8-4f21-a74d-0fab58a3d589',\n",
       " '8db77c4b-8a08-4292-a8c4-15c423fcdfb3',\n",
       " '39911357-55f0-4252-9503-45be0fba6125',\n",
       " '182a508b-ce0e-4f6b-8225-a07481677429',\n",
       " 'a6d2eaef-f597-4403-873e-27c65ca4a2fc',\n",
       " 'a5cb84b0-fe4d-4baa-9227-61ac3a765809',\n",
       " '4da57ad9-bdfb-4675-be86-c51397b944b4',\n",
       " 'de3994a2-3efd-4756-ab7b-5e3470fdda00',\n",
       " 'e3c96c57-756f-452f-af1c-5bbff5058946',\n",
       " 'a04468f7-1d2f-472e-b7ba-e95a9fea53ec',\n",
       " '67d4ac37-0ebb-4b24-99a4-68975f47a077',\n",
       " '5b61699d-b46c-4580-a55c-447d1634ecd5',\n",
       " 'f6e875ec-a6e4-4bf2-b469-e3bd8f473200',\n",
       " '8f8e0a96-bfdf-4ed4-974a-72886aa9078a',\n",
       " 'fff39a6e-8449-44a5-be5d-268f7b429f1e',\n",
       " 'bbaccb95-3554-4f5d-877f-435fa6ba8db7',\n",
       " '6116cc9e-d719-4405-a18f-adf63d48d52c',\n",
       " '4299a7fe-6d49-4a9f-a7b4-2646fe748c6b',\n",
       " '05897c26-035c-465d-b1f1-61387d35b177',\n",
       " 'edcbe4c5-6391-4a4e-a307-f8a6029a9e37',\n",
       " '5ce23342-6ee6-4157-8c7f-7c359b1aae24',\n",
       " '482e5b4a-72d4-41bf-bf38-2a436b6237ec',\n",
       " '8e0ff89a-118a-4975-b418-5fe060b980cb',\n",
       " '611ac3c1-7a77-411b-97c5-8787004ac02c',\n",
       " '611af6ff-e2a6-4d8d-82e4-2f21a506bd35',\n",
       " '947f47e1-c811-4e10-8044-6bde4ac9186c',\n",
       " '359044a4-da5e-42cb-9edd-dd52c2dd81de',\n",
       " '706ff811-7c6b-4311-b6c3-89d4163362d2',\n",
       " 'c0de2ae1-baba-4c11-9523-87272a87bcac',\n",
       " 'e646cc63-c31f-418d-a392-b92dc421a5d7',\n",
       " '119a251f-023b-4829-9885-3eca560de5ce',\n",
       " 'daeea738-a24a-4608-9de5-284848f270be',\n",
       " '713f4030-54e6-4e42-88a2-78097be8e986',\n",
       " 'f758ec54-2c22-4d46-bd18-fe93db87c69f',\n",
       " 'be8f0d77-422b-4e50-92e5-fd98e49c1cc0',\n",
       " '14fa2e94-a7d6-49fd-9a2a-52ba5879f453',\n",
       " '5d9600a1-6b4c-4aa1-acb2-868208797137',\n",
       " '1faf80bc-d495-4b8c-8053-a7c56352c6af',\n",
       " '0a93692f-03e2-4939-97ce-90f80598b932',\n",
       " 'b70f24eb-9201-44b9-9164-a7e9e96b6ef8',\n",
       " 'e5e9ff5b-647e-4bd1-ba89-db399b28c87d',\n",
       " '07cd86f0-8dde-41cb-a9f2-f39d6d99442d',\n",
       " '5dd42af9-b77b-4a41-90f8-2e3eb4e9250f',\n",
       " '0a8fb902-da46-4b9b-953d-f9e1ad9d4e3c',\n",
       " 'b25299c3-12e7-4226-83b4-4cf5ca0da638',\n",
       " '46f28f00-b8c1-4317-a424-ffb51598ab77',\n",
       " 'e942589f-107a-4370-9a7d-e1de13392fac',\n",
       " '6f0950df-581c-4cce-96c3-f044df6feedc',\n",
       " '37d4321b-81ba-438b-8374-290ef734144f',\n",
       " '73d745f3-497a-4e94-866e-b860e3fb1ed8',\n",
       " '4e18aa94-6b39-4100-8d2b-f8850769298c',\n",
       " 'd3c2f32d-7837-48b0-90df-e0940d812907',\n",
       " '6188f34d-6dff-40ed-857f-d8aa5f194f65',\n",
       " 'd7824a71-76cf-414b-a514-558e105e45be',\n",
       " '9c134f4e-7bcd-4cf3-9ea6-4157771462f8',\n",
       " 'bcd66f0d-9e21-4305-985a-ba319ddbe257',\n",
       " '80d3bf43-8153-4007-8383-b5621287332b',\n",
       " 'eef1705e-df40-4eb1-89cf-c68263745801',\n",
       " 'e31036df-fa95-4d7d-8453-0e2a88c1ef0b',\n",
       " '61a40731-88f5-4d94-b4e5-bce34e532bb1',\n",
       " '675e6faf-2983-4913-a4c4-7e8ccce40e3f',\n",
       " '50495412-cb8b-4b79-a4ca-061de9749e4f',\n",
       " '41a320f2-3409-4e9a-9514-847556d8fef8',\n",
       " 'cb5dc4e6-9fd2-465d-8cca-d42b95c16230',\n",
       " 'cea38bc8-2bc1-4391-9c86-0a97eebd2d13',\n",
       " '56e599d5-1c13-465e-afa2-72ee0b102314',\n",
       " '37180692-6281-4400-b1f5-fb42d614af3f',\n",
       " '5024f7ef-cf11-4f4f-bb0e-d30b35244abc',\n",
       " '3e63cdb1-ecf2-44fc-890c-12745ef87ea4',\n",
       " '6f52a400-4292-4097-b527-4504bd74d447',\n",
       " 'b18d9471-0769-492b-bc71-e73bf2fd0836',\n",
       " '1dfbcb33-82ee-41f7-811e-eb8bca85fb6c',\n",
       " '23f7a16e-8a28-4bc1-b92f-4ba974e42fd9',\n",
       " '1322f32c-35ed-48d9-91cd-0752a111011c',\n",
       " '771ca008-d2ce-4732-a461-a73e49ba397a',\n",
       " '6e69054e-aca0-4e29-bc85-303caf076133',\n",
       " 'fcd3d88d-cdec-451b-82e1-494e4bf1d2fd',\n",
       " '8a53c6ef-2884-437d-a375-00dc99d15a0d',\n",
       " '4922ec53-6bbd-4d27-a547-4ef42ebe9bb7',\n",
       " '8d70b1f6-436b-4a76-a7b3-4303c347de3a',\n",
       " 'b20451a8-bca4-4a2e-971e-fc7619bb4663',\n",
       " 'f32839f8-2112-4a91-b420-c3e60505aa1d',\n",
       " '934bec0d-32e8-4ff5-8c38-6cbc98983c91',\n",
       " '33856589-6c95-495c-96c7-26493816f841',\n",
       " 'd652dc13-2b66-418d-83ba-40d3f0938ae1',\n",
       " '888ee135-ebba-4604-865b-994f32ed90e2',\n",
       " '9338d933-14ab-414c-b088-9352ff3530c5',\n",
       " 'cd8f760a-3a3f-408c-a31d-02ae8f5fe684',\n",
       " '135513ea-3fd5-41a5-a4b8-f71b0cb070fa',\n",
       " 'b2b22382-729b-49b3-9a1f-054e8c041df4',\n",
       " '372d9415-32c0-45f8-805a-c27d38e9f89d',\n",
       " '3a66dc59-f5bd-4fd1-bcde-73e780f02502',\n",
       " '441a6f42-d1a9-4aff-9577-43f57b2e2efa',\n",
       " '79f74698-f475-4801-8331-8ab909cc4baf',\n",
       " 'ecf3649c-deb6-4d0b-ab59-0096f68ba849',\n",
       " '5f457e9d-aa3a-4504-b89f-15106e7299c2',\n",
       " 'ea3af41d-3e45-435c-8922-a2faa8bbb8e7',\n",
       " '61225ddc-d913-4a81-a1ea-e2472bf53634',\n",
       " '11014de7-e546-4034-9902-032982a140bc',\n",
       " '059930c8-3369-4c1b-aaca-07703e689b84',\n",
       " '2c37e36d-f76c-4de9-9a15-50b044889c30',\n",
       " 'a22b84eb-5d47-46b8-92e1-b2ffa6ba8d79',\n",
       " '66a2a75d-d6b8-4572-9a62-8d68d892e4e5',\n",
       " '6a7b1a67-bb06-429d-8e19-cd0d1d4c3cfb',\n",
       " '2cad6b52-5029-4dcd-91af-af6957678c4a',\n",
       " '99d866ef-f302-452f-ae0f-d66aa939f6f3',\n",
       " 'c8efb83e-bdf0-4385-91cb-ee90753369ad',\n",
       " '70dc1cc0-b63d-4061-9daf-dc7dd646a290',\n",
       " '4dded388-c81e-4c8b-9430-f4795ade8bb7',\n",
       " '8fd03704-54c1-4529-88a9-3b4fe8848cf1',\n",
       " '8da3e3f1-93c8-44ba-9323-4beb938fe0f0',\n",
       " '48ed3a19-2e7c-4a40-b107-95564e988b24',\n",
       " '55d4479f-b293-43bb-a487-43efb2838d15',\n",
       " 'c62b01ad-56b6-4b77-b7e7-739c1572cc24',\n",
       " '80a2476e-5a7b-41ec-9d85-42916ba036cc',\n",
       " '4f4ea5c2-0ba8-48a1-898f-e8dd154cc928',\n",
       " 'd6b4269c-42c2-485a-ac9c-18b39255df88',\n",
       " '711232a7-0c28-49cc-844b-e680e86fded7',\n",
       " '7d56f682-4349-4c39-a5e5-ac49372064d2',\n",
       " '262c9d9c-8357-4147-8577-516b858f2d8b',\n",
       " '9c3eb9ac-af39-4de0-bf04-3c846ae40ee8',\n",
       " 'dcad6092-8663-42be-96a2-07365002d3d0',\n",
       " 'cc52d809-390e-4245-a7b6-e17058324cf2',\n",
       " '9c05ef71-91bd-42fb-884b-6fdde8485486',\n",
       " '7240cb25-7eac-4b1c-8cb6-f0ff1ded829c',\n",
       " '07d55a73-e69f-4b7d-8eb5-87ab9130fc55',\n",
       " 'ea77c94d-66a1-4d73-bd49-e075d7c0a32e',\n",
       " 'ab96f646-34d3-42d5-b5e4-a360924f4b17',\n",
       " 'a4f6b202-89bd-4d4f-9dd9-2cede0ccd425',\n",
       " '57638b10-583e-4ec0-9422-1571669792ea',\n",
       " '62da1327-6ae9-4213-ba71-cc6777d68441',\n",
       " 'cc7dadb4-edd5-47b8-9f62-f8fd1af3e701',\n",
       " '0e0ca370-c80f-41a0-af93-ec5a28761a87',\n",
       " 'db981b8b-a476-4c74-acf8-1bc30068a7d3',\n",
       " '5534c9d9-85ae-43d0-b617-cee85ec960cd',\n",
       " '619ef3c3-5391-42bb-827e-4c3a8842a342',\n",
       " 'fa3a7388-5edf-4602-8ceb-4e21c4c17bd7',\n",
       " 'bef3ebe4-b642-450f-8a86-d980ed724241',\n",
       " 'a3881f93-9e17-4c76-b22d-f193de21d45c',\n",
       " '4b2f7a84-4852-4eda-9a7a-0049fdf75c90',\n",
       " 'a7ddb8a0-6f4b-40fa-9f45-c7c443010ea7',\n",
       " '5c15453c-ebf4-49b6-8141-9af5e71d2224',\n",
       " 'cc28eb2c-0823-4e01-9744-36052517f122',\n",
       " '93d98b03-ae16-450e-8637-45960892281d',\n",
       " '97e5a92c-887b-48d6-ae7d-dc0173bbc185',\n",
       " '31162baa-2e83-4c61-abf3-85d1a35e5732',\n",
       " 'e4e5ae90-8c4a-45fd-b793-42dd688a022b',\n",
       " 'a1939aa0-8e1a-4f03-bd6d-a59101321ad5',\n",
       " '18964b47-d957-41e9-a6b6-8b71a7e41a01',\n",
       " '1b35e4d6-499e-41f8-853f-4db18d8f437d',\n",
       " 'ff19cef6-7922-4319-935a-c807812e22a1',\n",
       " '5e7becd9-9a20-4f72-913a-51560678fb82',\n",
       " 'be7ed68e-463e-4b6c-b7d0-4d2c8050ee77',\n",
       " '0340896c-b6dd-4551-8c10-8d716f9998f4',\n",
       " '5080cf1f-a780-4646-81fe-fc00f247b97e',\n",
       " '1af55d91-299a-4157-8e00-6332b4ff434a',\n",
       " 'cfe3ed67-231d-41f1-878c-fd274010338e',\n",
       " '39e4091d-4046-436b-b4f2-f3f9730da880',\n",
       " 'c06814c6-62f3-4914-bcde-98cbc5a436f0',\n",
       " '2f36d5b4-b932-4b75-b0d6-529fff01606c',\n",
       " 'f6d4fd3f-5af5-4e69-966d-44f83a016887',\n",
       " '1ff57b2e-1bf3-4c71-bf0c-a5d8016cd2d7',\n",
       " 'cf73951e-fc97-449a-a317-254e0e1449f7',\n",
       " '1bf00b73-219e-4063-a5e8-a3ad4231330a',\n",
       " '7fa61cd8-763a-456a-9305-b98120bc14e9',\n",
       " '7747b6f6-4c70-4653-a3e0-90e3d1ae94ef',\n",
       " 'a1cbc706-f976-4d91-8674-adc592189ae2',\n",
       " '63d1ef95-c00e-4cd6-a914-c890b4b1d487',\n",
       " 'a08b1c3a-7871-4dc1-8cd5-099f0045b127',\n",
       " '9b31216b-5a4a-4efe-9be4-b1f1fdb1294c',\n",
       " '9bf1cedf-8c74-4066-a020-aa0915ba682e',\n",
       " 'a65d7a2e-487c-4b07-b826-5e37dc948d81',\n",
       " 'af65cdbc-2099-434f-920c-56ceca4dcbbe',\n",
       " '43b3c950-9975-48bd-928b-d0e7c8c89a90',\n",
       " '74d6a6c8-9c83-400e-a85c-25bec47d4285',\n",
       " 'f5f8bfa8-aea7-421b-8a91-71cad09d05be',\n",
       " '94614415-d787-432d-8435-9d101561ade7',\n",
       " '16d75b4b-5997-4d44-b9e0-787ca4c339db',\n",
       " '94b93792-3829-4c0d-9b4c-ac9a7c873ce2',\n",
       " 'f2837676-c0e8-499d-8b85-56273e1531b5',\n",
       " '6addbe50-464b-4b6b-9ae7-a25f380f0906',\n",
       " '40cebc25-5602-4705-a682-390ed8caba1b',\n",
       " 'bf05e136-4606-44e8-a21b-2d2c60d36e71']"
      ]
     },
     "execution_count": 11,
     "metadata": {},
     "output_type": "execute_result"
    }
   ],
   "source": [
    "Vector_store.add_documents(all_splits)"
   ]
  },
  {
   "cell_type": "code",
   "execution_count": 12,
   "metadata": {},
   "outputs": [],
   "source": [
    "prompt=ChatPromptTemplate.from_template(\n",
    "    \"\"\"\n",
    "    \n",
    "    Answer the question based on the context provided below. If the answer is not related to context then try to ans the question from your own knowledge , if not possible simply say i dont know.\n",
    "    <context>\n",
    "    {context}\n",
    "    </context>\n",
    "    Question: {question}\n",
    "    \n",
    "    \n",
    "    \"\"\"\n",
    "    )"
   ]
  },
  {
   "cell_type": "code",
   "execution_count": 13,
   "metadata": {},
   "outputs": [],
   "source": [
    "retriever=Vector_store.as_retriever(search_kwargs={\"k\": 6})"
   ]
  },
  {
   "cell_type": "code",
   "execution_count": 14,
   "metadata": {},
   "outputs": [
    {
     "data": {
      "text/plain": [
       "{'page_label': '5',\n",
       " 'total_pages': 60,\n",
       " 'creationdate': '2025-02-01T03:54:26+05:30',\n",
       " 'page': 4,\n",
       " 'author': 'hss',\n",
       " 'producer': 'Microsoft® Word 2021',\n",
       " 'creator': 'Microsoft® Word 2021',\n",
       " 'title': '',\n",
       " 'moddate': '2025-02-01T03:56:01+05:30',\n",
       " 'source': 'budget_speech.pdf'}"
      ]
     },
     "execution_count": 14,
     "metadata": {},
     "output_type": "execute_result"
    }
   ],
   "source": [
    "retriever.get_relevant_documents(\"budget of india in 2025?\")[0].metadata"
   ]
  },
  {
   "cell_type": "code",
   "execution_count": 15,
   "metadata": {},
   "outputs": [],
   "source": [
    "retriever_chain = RetrievalQA.from_chain_type(\n",
    "    llm=Groq_llm,\n",
    "    chain_type=\"stuff\",\n",
    "    retriever=retriever,\n",
    "    chain_type_kwargs={\"prompt\": prompt},\n",
    "    input_key=\"question\"\n",
    ")"
   ]
  },
  {
   "cell_type": "code",
   "execution_count": 16,
   "metadata": {},
   "outputs": [
    {
     "data": {
      "text/plain": [
       "\"The Budget of India for 2025-26, presented by Finance Minister Nirmala Sitharaman, outlines several key financial and policy initiatives:\\n\\n1. **Fiscal Deficit**: The fiscal deficit is estimated at 4.4% of GDP, slightly lower than the revised estimate of 4.8% for 2024-25.\\n\\n2. **Total Receipts and Expenditure**: The total receipts (excluding borrowings) are ₹34.96 lakh crore, while the total expenditure is ₹50.65 lakh crore. Net tax receipts are estimated at ₹28.37 lakh crore.\\n\\n3. **Borrowings**: Net market borrowings from dated securities amount to ₹11.54 lakh crore, with gross market borrowings at ₹14.82 lakh crore.\\n\\n4. **Policy Initiatives**:\\n   - **Asset Monetization Plan 2025-30**: Aims to generate ₹10 lakh crore for new projects.\\n   - **Infrastructure Support**: An outlay of ₹1.5 lakh crore for 50-year interest-free loans to states for capital expenditure.\\n   - **Jal Jeevan Mission**: Continuation of efforts to provide clean water, with 15 crore households already benefiting.\\n   - **Power Sector Reforms**: Incentives for electricity distribution reforms, including additional borrowing capacity for states.\\n\\nThese measures aim to accelerate growth, promote inclusive development, and enhance the spending power of the middle class, aligning with the government's broader economic goals.\""
      ]
     },
     "execution_count": 16,
     "metadata": {},
     "output_type": "execute_result"
    }
   ],
   "source": [
    "response=retriever_chain.invoke({'question':\"budget of india in 2025?\"})\n",
    "Vector_store.similarity_search(\"budget of india in 2025?\")\n",
    "response['result']"
   ]
  },
  {
   "cell_type": "code",
   "execution_count": 17,
   "metadata": {},
   "outputs": [],
   "source": [
    "related_context=retriever.get_relevant_documents(\"budget of india in 2025?\")"
   ]
  },
  {
   "cell_type": "code",
   "execution_count": 18,
   "metadata": {},
   "outputs": [
    {
     "name": "stdout",
     "output_type": "stream",
     "text": [
      "Budget 2025-2026 \n",
      " \n",
      "Speech of \n",
      "Nirmala Sitharaman \n",
      "Minister of Finance \n",
      "February 1, 2025 \n",
      "Hon’ble Speaker,  \n",
      " I present the Budget for 2025-26. \n",
      "Introduction \n",
      "1. This Budget continues our Government’s efforts to: \n",
      "a) accelerate growth,  \n",
      "b) secure inclusive development,  \n",
      "c) invigorate private sector investments,  \n",
      "d) uplift household sentiments, and \n",
      "e) enhance spending power of India’s rising middle class.  \n",
      "2. Together, we embark on a journey to unlock our nation’s tremendous \n",
      "potential for greater prosperity and global positioning under the leadership of \n",
      "Hon’ble Prime Minister Shri Narendra Modi. \n",
      "3. As we complete the first quarter of the 21 st century, continuing \n",
      "geopolitical headwinds suggest lower  global economic growth over the\n",
      "19  \n",
      " \n",
      "Budget Estimates 2025-26 \n",
      "112. Coming to 2025 -26, the total receipts other than  borrowings and the \n",
      "total expenditure are estimated at ` 34.96 lakh crore and ` 50.65 lakh crore \n",
      "respectively. The net tax receipts are estimated at ` 28.37 lakh crore. \n",
      "113. The fiscal deficit is estimated to be 4.4 per cent of GDP. \n",
      "114. To finance the fiscal deficit, the net market borrowings from dated \n",
      "securities are estimated at ` 11.54 lakh crore. The balance financing is expected \n",
      "to come from small savings and other sources. The gross market borrowings \n",
      "are estimated at ` 14.82 lakh crore. \n",
      "I will now move to Part B.\n",
      "GOVERNMENT OF INDIA\n",
      "BUDGET 2025-2026\n",
      "SPEECH\n",
      "OF\n",
      "NIRMALA SITHARAMAN\n",
      "MINISTER OF FINANCE\n",
      "February 1,  2025\n",
      "statement.           \n",
      "Revised Estimates 2024-25 \n",
      "110. The Revised Estimate of the total receipts other than borrowings is  \n",
      "` 31.47 lakh crore, of which the net tax receipts are ` 25.57 lakh crore. The \n",
      "Revised Estimate of the total expenditure is ` 47.16 lakh crore, of which the \n",
      "capital expenditure is about ` 10.18 lakh crore. \n",
      "111. The Revised Estimate of the fiscal deficit is 4.8 per cent of GDP.\n",
      "encouraged to do so and can seek support from the IIPDF (India Infrastructure \n",
      "Project Development Fund) scheme to prepare PPP proposals.     \n",
      "Support to States for Infrastructure \n",
      "53. An outlay of ` 1.5 lakh crore is proposed for the 50 -year interest free \n",
      "loans to states for capital expenditure and incentives for reforms.    \n",
      "Asset Monetization Plan 2025-30 \n",
      "54. Building on the success of the first Asset Monetization Plan announced \n",
      "in 2021, the second Plan for 2025-30 will be launched to plough back capital of \n",
      "` 10 lakh crore in new projects. Regulatory and fiscal measures will be fine -\n",
      "tuned to support the Plan. \n",
      "Jal Jeevan Mission \n",
      "55. Since 2019, 15 crore households representing 80 per cent of India’s\n",
      "to implement the proposals for ‘Cities as Growth Hubs’, ‘Creative \n",
      "Redevelopment of Cities’ and ‘Water and Sanitation’ announced in the July \n",
      "Budget.  \n",
      "59. This fund will finance up to 25 per cent of the cost of bankable projects \n",
      "with a stipulation that at least 50 per cent of the cost is funded from bonds, \n",
      "bank loans, and PPPs.  An allocation of ` 10,000 crore is proposed for 2025-26.  \n",
      "Power Sector Reforms \n",
      "60. We will incentivize electricity distribution reforms and augmentation of \n",
      "intra-state transmission capacity by states. This will improve financial health \n",
      "and capacity of electricity companies. Additional borrowing of 0.5 per cent of \n",
      "GSDP will be allowed to states, contingent on these reforms.\n"
     ]
    }
   ],
   "source": [
    "for i in related_context:\n",
    "    print(i.page_content)"
   ]
  },
  {
   "cell_type": "code",
   "execution_count": 19,
   "metadata": {},
   "outputs": [],
   "source": [
    "TAVILY_API_KEY = os.getenv('TAVILY_API_KEY')\n",
    "COHERE_API_KEY = os.getenv('COHERE_API_KEY')\n",
    "from langchain_tavily import TavilySearch\n",
    "from langchain.chat_models import init_chat_model"
   ]
  },
  {
   "cell_type": "code",
   "execution_count": 20,
   "metadata": {},
   "outputs": [],
   "source": [
    "from langchain_core.messages import ToolMessage"
   ]
  },
  {
   "cell_type": "code",
   "execution_count": 21,
   "metadata": {},
   "outputs": [],
   "source": [
    "tavily_search_tool = TavilySearch(max_results=5,tavily_api_key=TAVILY_API_KEY,include_answer=True,search_depth=\"advanced\")\n",
    "all_tools=[tavily_search_tool]\n",
    "\n",
    "# Initializing cohere LLM with tool call\n",
    "llm = init_chat_model(\"command-a-03-2025\", model_provider=\"cohere\")\n",
    "llm_with_tools=llm.bind_tools(all_tools)"
   ]
  },
  {
   "cell_type": "code",
   "execution_count": 22,
   "metadata": {},
   "outputs": [
    {
     "name": "stdout",
     "output_type": "stream",
     "text": [
      "The current date is August 16, 2025.\n"
     ]
    }
   ],
   "source": [
    "result = llm_with_tools.invoke('current date')\n",
    "# if tool call made by LLM\n",
    "tool_calls=result.additional_kwargs.get(\"tool_calls\",[])\n",
    "if tool_calls:\n",
    "    if tool_calls[0]['function']['name'] == \"tavily_search\":\n",
    "        tool_args= tool_calls[0]['function']['arguments']\n",
    "        tool_result=tavily_search_tool.invoke(tool_args)\n",
    "        tool_message=ToolMessage(\n",
    "            content=tool_result['answer'],\n",
    "            tool_call_id=tool_calls[0]['id'],\n",
    "        )\n",
    "        final_result = llm_with_tools.invoke([result,tool_message])\n",
    "        print(final_result.content)"
   ]
  },
  {
   "cell_type": "code",
   "execution_count": 25,
   "metadata": {},
   "outputs": [],
   "source": [
    "COHERE_API_KEY = os.getenv('COHERE_API_KEY')\n",
    "TAVILY_API_KEY = os.getenv('TAVILY_API_KEY')"
   ]
  },
  {
   "cell_type": "code",
   "execution_count": 29,
   "metadata": {},
   "outputs": [],
   "source": [
    "from pydantic import BaseModel, Field\n",
    "from typing import Literal\n"
   ]
  },
  {
   "cell_type": "code",
   "execution_count": 38,
   "metadata": {},
   "outputs": [],
   "source": [
    "class QuestionClassifierSchema(BaseModel):\n",
    "    question: Literal[\"RAG\", \"Search_node\"] = Field(description='Classify the question into RAG or Search_node based on the context and question')"
   ]
  },
  {
   "cell_type": "code",
   "execution_count": 39,
   "metadata": {},
   "outputs": [],
   "source": [
    "llm = init_chat_model(\"command-a-03-2025\", model_provider=\"cohere\")"
   ]
  },
  {
   "cell_type": "code",
   "execution_count": null,
   "metadata": {},
   "outputs": [],
   "source": [
    "def classify_question(state: ChatState):\n",
    "    question = state[\"question\"]\n",
    "    context= state[\"context\"]\n",
    "    classification_prompt = f\"\"\"\n",
    "    Classify the question into RAG if the question can be answered using the provided context, otherwise classify it into Search_node if the question requires real-time information or general knowledge.\n",
    "    \n",
    "    Question: {question}\n",
    "    Context: {context}\n",
    "    \"\"\"\n",
    "    response = structured_llm_for_classification.invoke(classification_prompt).question\n",
    "    return {\"next\": response}"
   ]
  },
  {
   "cell_type": "code",
   "execution_count": 40,
   "metadata": {},
   "outputs": [],
   "source": [
    "structured_llm=llm.with_structured_output(QuestionClassifierSchema)"
   ]
  },
  {
   "cell_type": "code",
   "execution_count": 46,
   "metadata": {},
   "outputs": [
    {
     "data": {
      "text/plain": [
       "'RAG'"
      ]
     },
     "execution_count": 46,
     "metadata": {},
     "output_type": "execute_result"
    }
   ],
   "source": [
    "structured_llm.invoke(\n",
    "    \"who is sunny ans using RAG?\"\n",
    ").question"
   ]
  },
  {
   "cell_type": "code",
   "execution_count": null,
   "metadata": {},
   "outputs": [],
   "source": []
  }
 ],
 "metadata": {
  "kernelspec": {
   "display_name": "myenv",
   "language": "python",
   "name": "python3"
  },
  "language_info": {
   "codemirror_mode": {
    "name": "ipython",
    "version": 3
   },
   "file_extension": ".py",
   "mimetype": "text/x-python",
   "name": "python",
   "nbconvert_exporter": "python",
   "pygments_lexer": "ipython3",
   "version": "3.12.7"
  }
 },
 "nbformat": 4,
 "nbformat_minor": 2
}
